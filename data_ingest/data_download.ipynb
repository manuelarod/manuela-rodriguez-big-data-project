{
 "cells": [
  {
   "cell_type": "code",
   "execution_count": 1,
   "id": "45c375d0",
   "metadata": {},
   "outputs": [],
   "source": [
    "import pandas as pd\n",
    "import requests\n",
    "from zipfile import ZipFile"
   ]
  },
  {
   "cell_type": "code",
   "execution_count": 11,
   "id": "c5292ece",
   "metadata": {},
   "outputs": [
    {
     "name": "stdout",
     "output_type": "stream",
     "text": [
      "https://s3.amazonaws.com/tripdata/201901-citibike-tripdata.csv.zip\n",
      "https://s3.amazonaws.com/tripdata/201902-citibike-tripdata.csv.zip\n",
      "https://s3.amazonaws.com/tripdata/201903-citibike-tripdata.csv.zip\n",
      "https://s3.amazonaws.com/tripdata/201904-citibike-tripdata.csv.zip\n",
      "https://s3.amazonaws.com/tripdata/201905-citibike-tripdata.csv.zip\n",
      "https://s3.amazonaws.com/tripdata/201906-citibike-tripdata.csv.zip\n",
      "https://s3.amazonaws.com/tripdata/201907-citibike-tripdata.csv.zip\n",
      "https://s3.amazonaws.com/tripdata/201908-citibike-tripdata.csv.zip\n",
      "https://s3.amazonaws.com/tripdata/201909-citibike-tripdata.csv.zip\n",
      "https://s3.amazonaws.com/tripdata/201910-citibike-tripdata.csv.zip\n",
      "https://s3.amazonaws.com/tripdata/201911-citibike-tripdata.csv.zip\n",
      "https://s3.amazonaws.com/tripdata/201912-citibike-tripdata.csv.zip\n",
      "https://s3.amazonaws.com/tripdata/202001-citibike-tripdata.csv.zip\n",
      "https://s3.amazonaws.com/tripdata/202002-citibike-tripdata.csv.zip\n",
      "https://s3.amazonaws.com/tripdata/202003-citibike-tripdata.csv.zip\n",
      "https://s3.amazonaws.com/tripdata/202004-citibike-tripdata.csv.zip\n",
      "https://s3.amazonaws.com/tripdata/202005-citibike-tripdata.csv.zip\n",
      "https://s3.amazonaws.com/tripdata/202006-citibike-tripdata.csv.zip\n",
      "https://s3.amazonaws.com/tripdata/202007-citibike-tripdata.csv.zip\n",
      "https://s3.amazonaws.com/tripdata/202008-citibike-tripdata.csv.zip\n",
      "https://s3.amazonaws.com/tripdata/202009-citibike-tripdata.csv.zip\n",
      "https://s3.amazonaws.com/tripdata/202010-citibike-tripdata.csv.zip\n",
      "https://s3.amazonaws.com/tripdata/202011-citibike-tripdata.csv.zip\n",
      "https://s3.amazonaws.com/tripdata/202012-citibike-tripdata.csv.zip\n",
      "https://s3.amazonaws.com/tripdata/202101-citibike-tripdata.csv.zip\n",
      "https://s3.amazonaws.com/tripdata/202102-citibike-tripdata.csv.zip\n",
      "https://s3.amazonaws.com/tripdata/202103-citibike-tripdata.csv.zip\n",
      "https://s3.amazonaws.com/tripdata/202104-citibike-tripdata.csv.zip\n",
      "https://s3.amazonaws.com/tripdata/202105-citibike-tripdata.csv.zip\n",
      "https://s3.amazonaws.com/tripdata/202106-citibike-tripdata.csv.zip\n",
      "https://s3.amazonaws.com/tripdata/202107-citibike-tripdata.csv.zip\n",
      "https://s3.amazonaws.com/tripdata/202108-citibike-tripdata.csv.zip\n",
      "https://s3.amazonaws.com/tripdata/202109-citibike-tripdata.csv.zip\n",
      "https://s3.amazonaws.com/tripdata/202110-citibike-tripdata.csv.zip\n",
      "https://s3.amazonaws.com/tripdata/202111-citibike-tripdata.csv.zip\n",
      "https://s3.amazonaws.com/tripdata/202112-citibike-tripdata.csv.zip\n"
     ]
    }
   ],
   "source": [
    "url = 'https://s3.amazonaws.com/tripdata'\n",
    "\n",
    "y = 2019\n",
    "\n",
    "while (y < 2022):\n",
    "    m = 1\n",
    "    while (m < 13):\n",
    "        if (m < 10):\n",
    "            tmp_m = '0' + str(m)\n",
    "        else:\n",
    "            tmp_m = str(m)\n",
    "        temp_url = f'{url}/{y}{tmp_m}-citibike-tripdata.csv.zip'\n",
    "        file_name = f'{y}{tmp_m}-citibike-tripdata.csv.zip'\n",
    "        print(temp_url)\n",
    "        m += 1\n",
    "        r = requests.get(temp_url, allow_redirects=True)\n",
    "        open(file_name, 'wb').write(r.content)\n",
    "    y += 1"
   ]
  },
  {
   "cell_type": "code",
   "execution_count": 1,
   "id": "f2edf8a7",
   "metadata": {},
   "outputs": [
    {
     "name": "stdout",
     "output_type": "stream",
     "text": [
      "unzip 201901-citibike-tripdata.csv.zip\n",
      "unzip 201902-citibike-tripdata.csv.zip\n",
      "unzip 201903-citibike-tripdata.csv.zip\n",
      "unzip 201904-citibike-tripdata.csv.zip\n",
      "unzip 201905-citibike-tripdata.csv.zip\n",
      "unzip 201906-citibike-tripdata.csv.zip\n",
      "unzip 201907-citibike-tripdata.csv.zip\n",
      "unzip 201908-citibike-tripdata.csv.zip\n",
      "unzip 201909-citibike-tripdata.csv.zip\n",
      "unzip 201910-citibike-tripdata.csv.zip\n",
      "unzip 201911-citibike-tripdata.csv.zip\n",
      "unzip 201912-citibike-tripdata.csv.zip\n",
      "unzip 202001-citibike-tripdata.csv.zip\n",
      "unzip 202002-citibike-tripdata.csv.zip\n",
      "unzip 202003-citibike-tripdata.csv.zip\n",
      "unzip 202004-citibike-tripdata.csv.zip\n",
      "unzip 202005-citibike-tripdata.csv.zip\n",
      "unzip 202006-citibike-tripdata.csv.zip\n",
      "unzip 202007-citibike-tripdata.csv.zip\n",
      "unzip 202008-citibike-tripdata.csv.zip\n",
      "unzip 202009-citibike-tripdata.csv.zip\n",
      "unzip 202010-citibike-tripdata.csv.zip\n",
      "unzip 202011-citibike-tripdata.csv.zip\n",
      "unzip 202012-citibike-tripdata.csv.zip\n",
      "unzip 202101-citibike-tripdata.csv.zip\n",
      "unzip 202102-citibike-tripdata.csv.zip\n",
      "unzip 202103-citibike-tripdata.csv.zip\n",
      "unzip 202104-citibike-tripdata.csv.zip\n",
      "unzip 202105-citibike-tripdata.csv.zip\n",
      "unzip 202106-citibike-tripdata.csv.zip\n",
      "unzip 202107-citibike-tripdata.csv.zip\n",
      "unzip 202108-citibike-tripdata.csv.zip\n",
      "unzip 202109-citibike-tripdata.csv.zip\n",
      "unzip 202110-citibike-tripdata.csv.zip\n",
      "unzip 202111-citibike-tripdata.csv.zip\n",
      "unzip 202112-citibike-tripdata.csv.zip\n"
     ]
    }
   ],
   "source": [
    "url = 'https://s3.amazonaws.com/tripdata'\n",
    "\n",
    "y = 2019\n",
    "\n",
    "while (y < 2022):\n",
    "    m = 1\n",
    "    while (m < 13):\n",
    "        if (m < 10):\n",
    "            tmp_m = '0' + str(m)\n",
    "        else:\n",
    "            tmp_m = str(m)\n",
    "        temp_url = f'{url}/{y}{tmp_m}-citibike-tripdata.csv.zip'\n",
    "        file_name = f'{y}{tmp_m}-citibike-tripdata.csv.zip'\n",
    "        print('unzip ' + file_name)\n",
    "        m += 1\n",
    "    y += 1"
   ]
  }
 ],
 "metadata": {
  "kernelspec": {
   "display_name": "Python 3 (ipykernel)",
   "language": "python",
   "name": "python3"
  },
  "language_info": {
   "codemirror_mode": {
    "name": "ipython",
    "version": 3
   },
   "file_extension": ".py",
   "mimetype": "text/x-python",
   "name": "python",
   "nbconvert_exporter": "python",
   "pygments_lexer": "ipython3",
   "version": "3.7.3"
  }
 },
 "nbformat": 4,
 "nbformat_minor": 5
}
